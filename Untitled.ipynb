{
 "cells": [
  {
   "cell_type": "markdown",
   "metadata": {},
   "source": [
    "# Seção 1 - scraping de uma página sem qualquer proteção"
   ]
  },
  {
   "cell_type": "code",
   "execution_count": 54,
   "metadata": {},
   "outputs": [],
   "source": [
    "from urllib.request import urlopen\n",
    "from bs4 import BeautifulSoup\n",
    "\n",
    "url = 'https://alura-site-scraping.herokuapp.com/hello-world.php'\n",
    "response = urlopen(url)\n",
    "html = response.read()"
   ]
  },
  {
   "cell_type": "code",
   "execution_count": 55,
   "metadata": {},
   "outputs": [
    {
     "data": {
      "text/plain": [
       "'Hello World!!!'"
      ]
     },
     "execution_count": 55,
     "metadata": {},
     "output_type": "execute_result"
    }
   ],
   "source": [
    "soup = BeautifulSoup(html, 'html.parser')\n",
    "soup.find('h1', id='hello-world').get_text()"
   ]
  },
  {
   "cell_type": "code",
   "execution_count": 56,
   "metadata": {},
   "outputs": [
    {
     "data": {
      "text/plain": [
       "'Curso de Web Scraping'"
      ]
     },
     "execution_count": 56,
     "metadata": {},
     "output_type": "execute_result"
    }
   ],
   "source": [
    "soup.find('h1',{'class':'sub-header'}).get_text()"
   ]
  },
  {
   "cell_type": "markdown",
   "metadata": {},
   "source": [
    "# Seção 2 - scraping de uma página"
   ]
  },
  {
   "cell_type": "code",
   "execution_count": 57,
   "metadata": {},
   "outputs": [],
   "source": [
    "from urllib.request import Request\n",
    "from urllib.error import URLError, HTTPError\n",
    "\n",
    "#define a url\n",
    "url = 'https://www.alura.com.br'"
   ]
  },
  {
   "cell_type": "code",
   "execution_count": 58,
   "metadata": {},
   "outputs": [],
   "source": [
    "#define uma lista de navegadores para acessar a url.\n",
    "#Onde encontrar:\n",
    "#1. acessar o devtools do navegador: aba 'Network', sub aba 'Headers'.\n",
    "#2. atualizar a página a fim de a conexão client-server ser refeita e os dados aparecerem\n",
    "headers = {'User-Agent': 'Mozilla/5.0 (Windows NT 10.0; Win64; x64) AppleWebKit/537.36 (KHTML, like Gecko) Chrome/91.0.4472.124 Safari/537.36 Edg/91.0.864.64'\n",
    "}"
   ]
  },
  {
   "cell_type": "code",
   "execution_count": 59,
   "metadata": {},
   "outputs": [],
   "source": [
    "#método\n",
    "try:\n",
    "    req = Request(url, headers=headers)\n",
    "    response = urlopen(req)\n",
    "    response.read()\n",
    "except HTTPError as e:\n",
    "    print(e.status, e.reason)\n",
    "except URLError as e:\n",
    "    print(e.reason)"
   ]
  },
  {
   "cell_type": "markdown",
   "metadata": {},
   "source": [
    "## Tratamento de string"
   ]
  },
  {
   "cell_type": "code",
   "execution_count": 60,
   "metadata": {},
   "outputs": [
    {
     "data": {
      "text/plain": [
       "bytes"
      ]
     },
     "execution_count": 60,
     "metadata": {},
     "output_type": "execute_result"
    }
   ],
   "source": [
    "url = 'https://alura-site-scraping.herokuapp.com/hello-world.php'\n",
    "response = urlopen(url)\n",
    "html = response.read()\n",
    "type(html)"
   ]
  },
  {
   "cell_type": "code",
   "execution_count": 117,
   "metadata": {},
   "outputs": [],
   "source": [
    "#split criará uma lista com todas as palavras somente\n",
    "#o join retornará uma str com espaços entre elas\n",
    "# o replace remove o espaço entre as tags\n",
    "\n",
    "\n",
    "def trata_html(html):\n",
    "    html = str.encode(html)\n",
    "    html = html.decode('utf-8')\n",
    "    return ' '.join(html.split()).replace('> <', '><')"
   ]
  },
  {
   "cell_type": "code",
   "execution_count": 118,
   "metadata": {},
   "outputs": [
    {
     "data": {
      "text/plain": [
       "'<!DOCTYPE html><html lang=\"pt-br\"><head><meta charset=\"utf-8\"><meta name=\"viewport\" content=\"width=device-width, initial-scale=1, shrink-to-fit=no\"><title>Alura Motors</title><style> /*Regra para a animacao*/ @keyframes spin { 0% { transform: rotate(0deg); } 100% { transform: rotate(360deg); } } /*Mudando o tamanho do icone de resposta*/ div.glyphicon { color:#6B8E23; font-size: 38px; } /*Classe que mostra a animacao \\'spin\\'*/ .loader { border: 16px solid #f3f3f3; border-radius: 50%; border-top: 16px solid #3498db; width: 80px; height: 80px; -webkit-animation: spin 2s linear infinite; animation: spin 2s linear infinite; } </style><link rel=\"stylesheet\" href=\"https://maxcdn.bootstrapcdn.com/bootstrap/3.3.7/css/bootstrap.min.css\" integrity=\"sha384-BVYiiSIFeK1dGmJRAkycuHAHRg32OmUcww7on3RYdg4Va+PmSTsz/K68vbdEjh4u\" crossorigin=\"anonymous\"><link rel=\"stylesheet\" href=\"css/styles.css\" media=\"all\"><script src=\"https://code.jquery.com/jquery-1.12.4.js\"></script><script src=\"https://maxcdn.bootstrapcdn.com/bootstrap/3.3.7/js/bootstrap.min.js\" integrity=\"sha384-Tc5IQib027qvyjSMfHjOMaLkfuWVxZxUPnCJA7l2mCWNIpG9mGCD8wGNIcPD7Txa\" crossorigin=\"anonymous\"></script><script type=\"text/javascript\" src=\"js/index.js\"></script><script> requisitar(\"https://alura-scraping.herokuapp.com/produtos?_page=\"+1+\"&_limit=10\") </script></head><body cz-shortcut-listen=\"true\"><noscript>You need to enable JavaScript to run this app.</noscript><div class=\"modal fade\" data-backdrop=\"static\" id=\"loadingModal\" tabindex=\"-1\" role=\"dialog\" aria-labelledby=\"loadingModal_label\"><div class=\"modal-dialog\" role=\"document\"><div class=\"modal-content\"><div class=\"modal-header\"><h5 class=\"modal-title\" id=\"loadingModal_label\"><span class=\"glyphicon glyphicon-refresh\"></span>Aguarde... </h5></div><div class=\"modal-body\"><div class=\\'alert\\' role=\\'alert\\'><center><div class=\"loader\" id=\"loader\"></div><br><h4><b id=\"loadingModal_content\"></b></h4></center></div></div></div></div></div><div id=\"root\"><header><nav class=\"navbar navbar-inverse\" style=\"margin-bottom: 0;\"><div class=\"container\" style=\"margin-bottom: -20px;\"><div class=\"navbar\"><a href=\"./index.php\" class=\"navbar-brand\" title=\"Alura Motors\"><img src=\"img/alura-logo.svg\" class=\"d-inline-block align-top\" alt=\"Alura\">Motors </a><ul class=\"nav navbar-nav\" style=\"margin-top: 35px;\"><li><a href=\"./hello-world.php\">Hello World</a></li><li><a href=\"./index.php\">Anúncios</a></li></ul></div></div></nav></header><div class=\"container\"><h1 class=\"sub-header\">Veículos de Luxo Novos e Usados - Todas as Marcas</h1><div class=\"row\"><div class=\"col-md-12\"><div class=\"container\" style=\"width: 100%\"><div class=\"type-select\">246 veículos encontrados</div><div class=\"container-pagination\" style=\"float: right\"><span class=\"info-pages\">Página 1 de 25</span></div></div><div id=\"container-cards\" style=\"height: 100%\"><div class=\"well card\"><div class=\"col-md-3 image-card\"><img width=\"220\" height=\"155\" alt=\"Foto\" src=\"https://caelum-online-public.s3.amazonaws.com/1381-scraping/01/img-cars/lamborghini-aventador/lamborghini-aventador-2932196__340.jpg\"></div><div class=\"col-md-6 body-card\"><p class=\"txt-name inline\">LAMBORGHINI AVENTADOR</p><p class=\"txt-category badge badge-secondary inline\">USADO</p><p class=\"txt-motor\">Motor 1.8 16v</p><p class=\"txt-description\">Ano 1993 - 55.286 km</p><ul class=\"lst-items\"><li class=\"txt-items\">► 4 X 4</li><li class=\"txt-items\">► Câmera de estacionamento</li><li class=\"txt-items\">► Controle de tração</li><li class=\"txt-items\">► Sensor de estacionamento</li><li class=\"txt-items\">...</li></ul><p class=\"txt-location\">Belo Horizonte - MG</p></div><div class=\"col-md-3 value-card\"><div class=\"value\"><p class=\"txt-value\">R$ 338.000</p></div></div></div><div class=\"well card\"><div class=\"col-md-3 image-card\"><img width=\"220\" height=\"155\" alt=\"Foto\" src=\"https://caelum-online-public.s3.amazonaws.com/1381-scraping/01/img-cars/bmw-m2/bmw-m2-2970882__340.jpg\"></div><div class=\"col-md-6 body-card\"><p class=\"txt-name inline\">BMW M2</p><p class=\"txt-category badge badge-secondary inline\">USADO</p><p class=\"txt-motor\">Motor 3.0 32v</p><p class=\"txt-description\">Ano 2018 - 83.447 km</p><ul class=\"lst-items\"><li class=\"txt-items\">► Câmera de estacionamento</li><li class=\"txt-items\">► Controle de estabilidade</li><li class=\"txt-items\">► Travas elétricas</li><li class=\"txt-items\">► Freios ABS</li><li class=\"txt-items\">...</li></ul><p class=\"txt-location\">Belo Horizonte - MG</p></div><div class=\"col-md-3 value-card\"><div class=\"value\"><p class=\"txt-value\">R$ 346.000</p></div></div></div><div class=\"well card\"><div class=\"col-md-3 image-card\"><img width=\"220\" height=\"155\" alt=\"Foto\" src=\"https://caelum-online-public.s3.amazonaws.com/1381-scraping/01/img-cars/alfa/alfa-1823056__340.jpg\"></div><div class=\"col-md-6 body-card\"><p class=\"txt-name inline\">ALFA</p><p class=\"txt-category badge badge-secondary inline\">USADO</p><p class=\"txt-motor\">Motor 1.8 16v</p><p class=\"txt-description\">Ano 2004 - 19.722 km</p><ul class=\"lst-items\"><li class=\"txt-items\">► Central multimídia</li><li class=\"txt-items\">► Bancos de couro</li><li class=\"txt-items\">► Rodas de liga</li><li class=\"txt-items\">► Câmera de estacionamento</li><li class=\"txt-items\">...</li></ul><p class=\"txt-location\">Rio de Janeiro - RJ</p></div><div class=\"col-md-3 value-card\"><div class=\"value\"><p class=\"txt-value\">R$ 480.000</p></div></div></div><div class=\"well card\"><div class=\"col-md-3 image-card\"><img width=\"220\" height=\"155\" alt=\"Foto\" src=\"https://caelum-online-public.s3.amazonaws.com/1381-scraping/01/img-cars/puech/puech-4055386__340.jpg\"></div><div class=\"col-md-6 body-card\"><p class=\"txt-name inline\">PUECH</p><p class=\"txt-category badge badge-secondary inline\">USADO</p><p class=\"txt-motor\">Motor Diesel V8</p><p class=\"txt-description\">Ano 1992 - 34.335 km</p><ul class=\"lst-items\"><li class=\"txt-items\">► Bancos de couro</li><li class=\"txt-items\">► Freios ABS</li><li class=\"txt-items\">► Rodas de liga</li><li class=\"txt-items\">► Câmbio automático</li><li class=\"txt-items\">...</li></ul><p class=\"txt-location\">São Paulo - SP</p></div><div class=\"col-md-3 value-card\"><div class=\"value\"><p class=\"txt-value\">R$ 133.000</p></div></div></div><div class=\"well card\"><div class=\"col-md-3 image-card\"><img width=\"220\" height=\"155\" alt=\"Foto\" src=\"https://caelum-online-public.s3.amazonaws.com/1381-scraping/01/img-cars/lamborghini-murcielago/lamborghini-murcielago-2872974__340.jpg\"></div><div class=\"col-md-6 body-card\"><p class=\"txt-name inline\">LAMBORGHINI MURCIELAGO</p><p class=\"txt-category badge badge-secondary inline\">USADO</p><p class=\"txt-motor\">Motor 1.0 8v</p><p class=\"txt-description\">Ano 1991 - 464 km</p><ul class=\"lst-items\"><li class=\"txt-items\">► Central multimídia</li><li class=\"txt-items\">► Teto panorâmico</li><li class=\"txt-items\">► Sensor crepuscular</li><li class=\"txt-items\">► Piloto automático</li><li class=\"txt-items\">...</li></ul><p class=\"txt-location\">Belo Horizonte - MG</p></div><div class=\"col-md-3 value-card\"><div class=\"value\"><p class=\"txt-value\">R$ 175.000</p></div></div></div><div class=\"well card\"><div class=\"col-md-3 image-card\"><img width=\"220\" height=\"155\" alt=\"Foto\" src=\"https://caelum-online-public.s3.amazonaws.com/1381-scraping/01/img-cars/aston-martin/aston-martin-2977916__340.jpg\"></div><div class=\"col-md-6 body-card\"><p class=\"txt-name inline\">ASTON MARTIN</p><p class=\"txt-category badge badge-secondary inline\">USADO</p><p class=\"txt-opportunity badge badge-danger inline\">OPORTUNIDADE</p><p class=\"txt-motor\">Motor Diesel V6</p><p class=\"txt-description\">Ano 2004 - 50.189 km</p><ul class=\"lst-items\"><li class=\"txt-items\">► Painel digital</li><li class=\"txt-items\">► Controle de tração</li><li class=\"txt-items\">► Teto panorâmico</li><li class=\"txt-items\">► Central multimídia</li><li class=\"txt-items\">...</li></ul><p class=\"txt-location\">Belo Horizonte - MG</p></div><div class=\"col-md-3 value-card\"><div class=\"value\"><p class=\"txt-value\">R$ 239.000</p></div></div></div><div class=\"well card\"><div class=\"col-md-3 image-card\"><img width=\"220\" height=\"155\" alt=\"Foto\" src=\"https://caelum-online-public.s3.amazonaws.com/1381-scraping/01/img-cars/tvr/tvr-2943925__340.jpg\"></div><div class=\"col-md-6 body-card\"><p class=\"txt-name inline\">TVR</p><p class=\"txt-category badge badge-secondary inline\">USADO</p><p class=\"txt-motor\">Motor 4.0 Turbo</p><p class=\"txt-description\">Ano 2014 - 17.778 km</p><ul class=\"lst-items\"><li class=\"txt-items\">► 4 X 4</li><li class=\"txt-items\">► Teto panorâmico</li><li class=\"txt-items\">► Central multimídia</li><li class=\"txt-items\">► Controle de estabilidade</li><li class=\"txt-items\">...</li></ul><p class=\"txt-location\">Belo Horizonte - MG</p></div><div class=\"col-md-3 value-card\"><div class=\"value\"><p class=\"txt-value\">R$ 115.000</p></div></div></div><div class=\"well card\"><div class=\"col-md-3 image-card\"><img width=\"220\" height=\"155\" alt=\"Foto\" src=\"https://caelum-online-public.s3.amazonaws.com/1381-scraping/01/img-cars/excalibur/excalibur-2916730__340.jpg\"></div><div class=\"col-md-6 body-card\"><p class=\"txt-name inline\">EXCALIBUR</p><p class=\"txt-category badge badge-secondary inline\">USADO</p><p class=\"txt-motor\">Motor 3.0 32v</p><p class=\"txt-description\">Ano 2009 - 81.251 km</p><ul class=\"lst-items\"><li class=\"txt-items\">► Painel digital</li><li class=\"txt-items\">► Câmbio automático</li><li class=\"txt-items\">► Sensor de chuva</li><li class=\"txt-items\">► Travas elétricas</li><li class=\"txt-items\">...</li></ul><p class=\"txt-location\">Rio de Janeiro - RJ</p></div><div class=\"col-md-3 value-card\"><div class=\"value\"><p class=\"txt-value\">R$ 114.000</p></div></div></div><div class=\"well card\"><div class=\"col-md-3 image-card\"><img width=\"220\" height=\"155\" alt=\"Foto\" src=\"https://caelum-online-public.s3.amazonaws.com/1381-scraping/01/img-cars/mclaren/mclaren-2855240__340.jpg\"></div><div class=\"col-md-6 body-card\"><p class=\"txt-name inline\">MCLAREN</p><p class=\"txt-category badge badge-secondary inline\">NOVO</p><p class=\"txt-motor\">Motor Diesel</p><p class=\"txt-description\">Ano 2019 - 0 km</p><ul class=\"lst-items\"><li class=\"txt-items\">► Central multimídia</li><li class=\"txt-items\">► Câmera de estacionamento</li><li class=\"txt-items\">► Câmbio automático</li><li class=\"txt-items\">► Ar condicionado</li><li class=\"txt-items\">...</li></ul><p class=\"txt-location\">São Paulo - SP</p></div><div class=\"col-md-3 value-card\"><div class=\"value\"><p class=\"txt-value\">R$ 75.000</p></div></div></div><div class=\"well card\"><div class=\"col-md-3 image-card\"><img width=\"220\" height=\"155\" alt=\"Foto\" src=\"https://caelum-online-public.s3.amazonaws.com/1381-scraping/01/img-cars/toyota/toyota-3245397__340.jpg\"></div><div class=\"col-md-6 body-card\"><p class=\"txt-name inline\">TOYOTA</p><p class=\"txt-category badge badge-secondary inline\">USADO</p><p class=\"txt-opportunity badge badge-danger inline\">OPORTUNIDADE</p><p class=\"txt-motor\">Motor 4.0 Turbo</p><p class=\"txt-description\">Ano 1999 - 12.536 km</p><ul class=\"lst-items\"><li class=\"txt-items\">► Bancos de couro</li><li class=\"txt-items\">► Freios ABS</li><li class=\"txt-items\">► Piloto automático</li><li class=\"txt-items\">► Controle de estabilidade</li><li class=\"txt-items\">...</li></ul><p class=\"txt-location\">São Paulo - SP</p></div><div class=\"col-md-3 value-card\"><div class=\"value\"><p class=\"txt-value\">R$ 117.000</p></div></div></div></div><div class=\"type-select\">246 veículos encontrados</div><div class=\"container-pagination\" style=\"float: right\"><span class=\"info-pages\">Página 1 de 25</span></div></div></div></div></div></div><footer><nav class=\"navbar navbar-inverse\"><div class=\"container\" style=\"margin-bottom: 10px;\"><div class=\"navbar\"><a href=\"./index.php\" class=\"navbar-brand\" title=\"Alura Motors\"><img src=\"img/alura-logo.svg\" class=\"d-inline-block align-top\" alt=\"Alura\">Motors </a><p style=\"color: #fff; text-align: center; margin-top: 40px;\">Aplicação para treinamento de web scraping</p></div></div></nav></footer></div></body></html>'"
      ]
     },
     "execution_count": 118,
     "metadata": {},
     "output_type": "execute_result"
    }
   ],
   "source": [
    "html = trata_html(html)\n",
    "html"
   ]
  },
  {
   "cell_type": "markdown",
   "metadata": {},
   "source": [
    "# Seção 3 - intro ao BeautifulSoup"
   ]
  },
  {
   "cell_type": "code",
   "execution_count": 119,
   "metadata": {},
   "outputs": [
    {
     "ename": "TypeError",
     "evalue": "descriptor 'encode' for 'str' objects doesn't apply to a 'bytes' object",
     "output_type": "error",
     "traceback": [
      "\u001b[1;31m---------------------------------------------------------------------------\u001b[0m",
      "\u001b[1;31mTypeError\u001b[0m                                 Traceback (most recent call last)",
      "\u001b[1;32m<ipython-input-119-8f7b145d7b8a>\u001b[0m in \u001b[0;36m<module>\u001b[1;34m\u001b[0m\n\u001b[0;32m      4\u001b[0m \u001b[0mresponse\u001b[0m \u001b[1;33m=\u001b[0m \u001b[0murlopen\u001b[0m\u001b[1;33m(\u001b[0m\u001b[0murl\u001b[0m\u001b[1;33m)\u001b[0m\u001b[1;33m\u001b[0m\u001b[1;33m\u001b[0m\u001b[0m\n\u001b[0;32m      5\u001b[0m \u001b[0mhtml\u001b[0m \u001b[1;33m=\u001b[0m \u001b[0mresponse\u001b[0m\u001b[1;33m.\u001b[0m\u001b[0mread\u001b[0m\u001b[1;33m(\u001b[0m\u001b[1;33m)\u001b[0m\u001b[1;33m\u001b[0m\u001b[1;33m\u001b[0m\u001b[0m\n\u001b[1;32m----> 6\u001b[1;33m \u001b[0mhtml\u001b[0m \u001b[1;33m=\u001b[0m \u001b[0mtrata_html\u001b[0m\u001b[1;33m(\u001b[0m\u001b[0mhtml\u001b[0m\u001b[1;33m)\u001b[0m\u001b[1;33m\u001b[0m\u001b[1;33m\u001b[0m\u001b[0m\n\u001b[0m\u001b[0;32m      7\u001b[0m \u001b[1;31m#explicita qual parser será utilizado para não deixar a lib escolher\u001b[0m\u001b[1;33m\u001b[0m\u001b[1;33m\u001b[0m\u001b[1;33m\u001b[0m\u001b[0m\n\u001b[0;32m      8\u001b[0m \u001b[0msoup\u001b[0m \u001b[1;33m=\u001b[0m \u001b[0mBeautifulSoup\u001b[0m\u001b[1;33m(\u001b[0m\u001b[0mhtml\u001b[0m\u001b[1;33m,\u001b[0m \u001b[1;34m'html.parser'\u001b[0m\u001b[1;33m)\u001b[0m\u001b[1;33m\u001b[0m\u001b[1;33m\u001b[0m\u001b[0m\n",
      "\u001b[1;32m<ipython-input-117-a1feb3990f2b>\u001b[0m in \u001b[0;36mtrata_html\u001b[1;34m(html)\u001b[0m\n\u001b[0;32m      5\u001b[0m \u001b[1;33m\u001b[0m\u001b[0m\n\u001b[0;32m      6\u001b[0m \u001b[1;32mdef\u001b[0m \u001b[0mtrata_html\u001b[0m\u001b[1;33m(\u001b[0m\u001b[0mhtml\u001b[0m\u001b[1;33m)\u001b[0m\u001b[1;33m:\u001b[0m\u001b[1;33m\u001b[0m\u001b[1;33m\u001b[0m\u001b[0m\n\u001b[1;32m----> 7\u001b[1;33m     \u001b[0mhtml\u001b[0m \u001b[1;33m=\u001b[0m \u001b[0mstr\u001b[0m\u001b[1;33m.\u001b[0m\u001b[0mencode\u001b[0m\u001b[1;33m(\u001b[0m\u001b[0mhtml\u001b[0m\u001b[1;33m)\u001b[0m\u001b[1;33m\u001b[0m\u001b[1;33m\u001b[0m\u001b[0m\n\u001b[0m\u001b[0;32m      8\u001b[0m     \u001b[0mhtml\u001b[0m \u001b[1;33m=\u001b[0m \u001b[0mhtml\u001b[0m\u001b[1;33m.\u001b[0m\u001b[0mdecode\u001b[0m\u001b[1;33m(\u001b[0m\u001b[1;34m'utf-8'\u001b[0m\u001b[1;33m)\u001b[0m\u001b[1;33m\u001b[0m\u001b[1;33m\u001b[0m\u001b[0m\n\u001b[0;32m      9\u001b[0m     \u001b[1;32mreturn\u001b[0m \u001b[1;34m' '\u001b[0m\u001b[1;33m.\u001b[0m\u001b[0mjoin\u001b[0m\u001b[1;33m(\u001b[0m\u001b[0mhtml\u001b[0m\u001b[1;33m.\u001b[0m\u001b[0msplit\u001b[0m\u001b[1;33m(\u001b[0m\u001b[1;33m)\u001b[0m\u001b[1;33m)\u001b[0m\u001b[1;33m.\u001b[0m\u001b[0mreplace\u001b[0m\u001b[1;33m(\u001b[0m\u001b[1;34m'> <'\u001b[0m\u001b[1;33m,\u001b[0m \u001b[1;34m'><'\u001b[0m\u001b[1;33m)\u001b[0m\u001b[1;33m\u001b[0m\u001b[1;33m\u001b[0m\u001b[0m\n",
      "\u001b[1;31mTypeError\u001b[0m: descriptor 'encode' for 'str' objects doesn't apply to a 'bytes' object"
     ]
    }
   ],
   "source": [
    "from bs4 import BeautifulSoup\n",
    "\n",
    "url  = 'https://alura-site-scraping.herokuapp.com/index.php'\n",
    "response = urlopen(url)\n",
    "html = response.read()\n",
    "html = trata_html(html)\n",
    "#explicita qual parser será utilizado para não deixar a lib escolher\n",
    "soup = BeautifulSoup(html, 'html.parser')\n",
    "type(soup)"
   ]
  },
  {
   "cell_type": "code",
   "execution_count": null,
   "metadata": {},
   "outputs": [],
   "source": [
    "#atributo prettify() identa a html\n",
    "soup.prettify()"
   ]
  },
  {
   "cell_type": "code",
   "execution_count": null,
   "metadata": {},
   "outputs": [],
   "source": [
    "soup.html.head.title"
   ]
  },
  {
   "cell_type": "code",
   "execution_count": null,
   "metadata": {},
   "outputs": [],
   "source": [
    "soup.h5"
   ]
  },
  {
   "cell_type": "code",
   "execution_count": null,
   "metadata": {},
   "outputs": [],
   "source": [
    "soup.title.get_text()"
   ]
  },
  {
   "cell_type": "code",
   "execution_count": 120,
   "metadata": {},
   "outputs": [
    {
     "data": {
      "text/plain": [
       "'Aguarde... '"
      ]
     },
     "execution_count": 120,
     "metadata": {},
     "output_type": "execute_result"
    }
   ],
   "source": [
    "soup.h5.get_text()"
   ]
  },
  {
   "cell_type": "code",
   "execution_count": 121,
   "metadata": {},
   "outputs": [
    {
     "data": {
      "text/plain": [
       "{'src': 'img/alura-logo.svg',\n",
       " 'class': ['d-inline-block', 'align-top'],\n",
       " 'alt': 'Alura'}"
      ]
     },
     "execution_count": 121,
     "metadata": {},
     "output_type": "execute_result"
    }
   ],
   "source": [
    "#retorna um dict de atributo:conteudo\n",
    "soup.img.attrs"
   ]
  },
  {
   "cell_type": "code",
   "execution_count": 122,
   "metadata": {},
   "outputs": [
    {
     "data": {
      "text/plain": [
       "'img/alura-logo.svg'"
      ]
     },
     "execution_count": 122,
     "metadata": {},
     "output_type": "execute_result"
    }
   ],
   "source": [
    "soup.img.get('src')"
   ]
  },
  {
   "cell_type": "markdown",
   "metadata": {},
   "source": [
    "# Seção 4 - Pesquisando com BeatifulSoup\n"
   ]
  },
  {
   "cell_type": "code",
   "execution_count": 123,
   "metadata": {},
   "outputs": [
    {
     "data": {
      "text/plain": [
       "[<img alt=\"Alura\" class=\"d-inline-block align-top\" src=\"img/alura-logo.svg\"/>,\n",
       " <img alt=\"Foto\" height=\"155\" src=\"https://caelum-online-public.s3.amazonaws.com/1381-scraping/01/img-cars/lamborghini-aventador/lamborghini-aventador-2932196__340.jpg\" width=\"220\"/>,\n",
       " <img alt=\"Foto\" height=\"155\" src=\"https://caelum-online-public.s3.amazonaws.com/1381-scraping/01/img-cars/bmw-m2/bmw-m2-2970882__340.jpg\" width=\"220\"/>,\n",
       " <img alt=\"Foto\" height=\"155\" src=\"https://caelum-online-public.s3.amazonaws.com/1381-scraping/01/img-cars/alfa/alfa-1823056__340.jpg\" width=\"220\"/>,\n",
       " <img alt=\"Foto\" height=\"155\" src=\"https://caelum-online-public.s3.amazonaws.com/1381-scraping/01/img-cars/puech/puech-4055386__340.jpg\" width=\"220\"/>,\n",
       " <img alt=\"Foto\" height=\"155\" src=\"https://caelum-online-public.s3.amazonaws.com/1381-scraping/01/img-cars/lamborghini-murcielago/lamborghini-murcielago-2872974__340.jpg\" width=\"220\"/>,\n",
       " <img alt=\"Foto\" height=\"155\" src=\"https://caelum-online-public.s3.amazonaws.com/1381-scraping/01/img-cars/aston-martin/aston-martin-2977916__340.jpg\" width=\"220\"/>,\n",
       " <img alt=\"Foto\" height=\"155\" src=\"https://caelum-online-public.s3.amazonaws.com/1381-scraping/01/img-cars/tvr/tvr-2943925__340.jpg\" width=\"220\"/>,\n",
       " <img alt=\"Foto\" height=\"155\" src=\"https://caelum-online-public.s3.amazonaws.com/1381-scraping/01/img-cars/excalibur/excalibur-2916730__340.jpg\" width=\"220\"/>,\n",
       " <img alt=\"Foto\" height=\"155\" src=\"https://caelum-online-public.s3.amazonaws.com/1381-scraping/01/img-cars/mclaren/mclaren-2855240__340.jpg\" width=\"220\"/>,\n",
       " <img alt=\"Foto\" height=\"155\" src=\"https://caelum-online-public.s3.amazonaws.com/1381-scraping/01/img-cars/toyota/toyota-3245397__340.jpg\" width=\"220\"/>,\n",
       " <img alt=\"Alura\" class=\"d-inline-block align-top\" src=\"img/alura-logo.svg\"/>]"
      ]
     },
     "execution_count": 123,
     "metadata": {},
     "output_type": "execute_result"
    }
   ],
   "source": [
    "#find_all retorna uma lista com todas as tags pesquisadas\n",
    "soup.find_all('img')"
   ]
  },
  {
   "cell_type": "code",
   "execution_count": 124,
   "metadata": {},
   "outputs": [
    {
     "data": {
      "text/plain": [
       "[<img alt=\"Alura\" class=\"d-inline-block align-top\" src=\"img/alura-logo.svg\"/>]"
      ]
     },
     "execution_count": 124,
     "metadata": {},
     "output_type": "execute_result"
    }
   ],
   "source": [
    "soup.find_all('img', limit=1)"
   ]
  },
  {
   "cell_type": "code",
   "execution_count": 125,
   "metadata": {},
   "outputs": [
    {
     "data": {
      "text/plain": [
       "[<img alt=\"Alura\" class=\"d-inline-block align-top\" src=\"img/alura-logo.svg\"/>,\n",
       " <img alt=\"Foto\" height=\"155\" src=\"https://caelum-online-public.s3.amazonaws.com/1381-scraping/01/img-cars/lamborghini-aventador/lamborghini-aventador-2932196__340.jpg\" width=\"220\"/>,\n",
       " <img alt=\"Foto\" height=\"155\" src=\"https://caelum-online-public.s3.amazonaws.com/1381-scraping/01/img-cars/bmw-m2/bmw-m2-2970882__340.jpg\" width=\"220\"/>,\n",
       " <img alt=\"Foto\" height=\"155\" src=\"https://caelum-online-public.s3.amazonaws.com/1381-scraping/01/img-cars/alfa/alfa-1823056__340.jpg\" width=\"220\"/>,\n",
       " <img alt=\"Foto\" height=\"155\" src=\"https://caelum-online-public.s3.amazonaws.com/1381-scraping/01/img-cars/puech/puech-4055386__340.jpg\" width=\"220\"/>,\n",
       " <img alt=\"Foto\" height=\"155\" src=\"https://caelum-online-public.s3.amazonaws.com/1381-scraping/01/img-cars/lamborghini-murcielago/lamborghini-murcielago-2872974__340.jpg\" width=\"220\"/>,\n",
       " <img alt=\"Foto\" height=\"155\" src=\"https://caelum-online-public.s3.amazonaws.com/1381-scraping/01/img-cars/aston-martin/aston-martin-2977916__340.jpg\" width=\"220\"/>,\n",
       " <img alt=\"Foto\" height=\"155\" src=\"https://caelum-online-public.s3.amazonaws.com/1381-scraping/01/img-cars/tvr/tvr-2943925__340.jpg\" width=\"220\"/>,\n",
       " <img alt=\"Foto\" height=\"155\" src=\"https://caelum-online-public.s3.amazonaws.com/1381-scraping/01/img-cars/excalibur/excalibur-2916730__340.jpg\" width=\"220\"/>,\n",
       " <img alt=\"Foto\" height=\"155\" src=\"https://caelum-online-public.s3.amazonaws.com/1381-scraping/01/img-cars/mclaren/mclaren-2855240__340.jpg\" width=\"220\"/>,\n",
       " <img alt=\"Foto\" height=\"155\" src=\"https://caelum-online-public.s3.amazonaws.com/1381-scraping/01/img-cars/toyota/toyota-3245397__340.jpg\" width=\"220\"/>,\n",
       " <img alt=\"Alura\" class=\"d-inline-block align-top\" src=\"img/alura-logo.svg\"/>]"
      ]
     },
     "execution_count": 125,
     "metadata": {},
     "output_type": "execute_result"
    }
   ],
   "source": [
    "#jeito mais prático de usar o find_all\n",
    "soup('img')"
   ]
  },
  {
   "cell_type": "code",
   "execution_count": 126,
   "metadata": {},
   "outputs": [
    {
     "data": {
      "text/plain": [
       "[<h5 class=\"modal-title\" id=\"loadingModal_label\"><span class=\"glyphicon glyphicon-refresh\"></span>Aguarde... </h5>,\n",
       " <h4><b id=\"loadingModal_content\"></b></h4>,\n",
       " <h1 class=\"sub-header\">Veículos de Luxo Novos e Usados - Todas as Marcas</h1>]"
      ]
     },
     "execution_count": 126,
     "metadata": {},
     "output_type": "execute_result"
    }
   ],
   "source": [
    "soup.find_all(['h1','h2','h3','h4','h5','h6'])"
   ]
  },
  {
   "cell_type": "code",
   "execution_count": 127,
   "metadata": {},
   "outputs": [
    {
     "data": {
      "text/plain": [
       "[<p class=\"txt-name inline\">LAMBORGHINI AVENTADOR</p>,\n",
       " <p class=\"txt-category badge badge-secondary inline\">USADO</p>,\n",
       " <p class=\"txt-motor\">Motor 1.8 16v</p>,\n",
       " <p class=\"txt-description\">Ano 1993 - 55.286 km</p>,\n",
       " <p class=\"txt-location\">Belo Horizonte - MG</p>,\n",
       " <p class=\"txt-value\">R$ 338.000</p>,\n",
       " <p class=\"txt-name inline\">BMW M2</p>,\n",
       " <p class=\"txt-category badge badge-secondary inline\">USADO</p>,\n",
       " <p class=\"txt-motor\">Motor 3.0 32v</p>,\n",
       " <p class=\"txt-description\">Ano 2018 - 83.447 km</p>,\n",
       " <p class=\"txt-location\">Belo Horizonte - MG</p>,\n",
       " <p class=\"txt-value\">R$ 346.000</p>,\n",
       " <p class=\"txt-name inline\">ALFA</p>,\n",
       " <p class=\"txt-category badge badge-secondary inline\">USADO</p>,\n",
       " <p class=\"txt-motor\">Motor 1.8 16v</p>,\n",
       " <p class=\"txt-description\">Ano 2004 - 19.722 km</p>,\n",
       " <p class=\"txt-location\">Rio de Janeiro - RJ</p>,\n",
       " <p class=\"txt-value\">R$ 480.000</p>,\n",
       " <p class=\"txt-name inline\">PUECH</p>,\n",
       " <p class=\"txt-category badge badge-secondary inline\">USADO</p>,\n",
       " <p class=\"txt-motor\">Motor Diesel V8</p>,\n",
       " <p class=\"txt-description\">Ano 1992 - 34.335 km</p>,\n",
       " <p class=\"txt-location\">São Paulo - SP</p>,\n",
       " <p class=\"txt-value\">R$ 133.000</p>,\n",
       " <p class=\"txt-name inline\">LAMBORGHINI MURCIELAGO</p>,\n",
       " <p class=\"txt-category badge badge-secondary inline\">USADO</p>,\n",
       " <p class=\"txt-motor\">Motor 1.0 8v</p>,\n",
       " <p class=\"txt-description\">Ano 1991 - 464 km</p>,\n",
       " <p class=\"txt-location\">Belo Horizonte - MG</p>,\n",
       " <p class=\"txt-value\">R$ 175.000</p>,\n",
       " <p class=\"txt-name inline\">ASTON MARTIN</p>,\n",
       " <p class=\"txt-category badge badge-secondary inline\">USADO</p>,\n",
       " <p class=\"txt-opportunity badge badge-danger inline\">OPORTUNIDADE</p>,\n",
       " <p class=\"txt-motor\">Motor Diesel V6</p>,\n",
       " <p class=\"txt-description\">Ano 2004 - 50.189 km</p>,\n",
       " <p class=\"txt-location\">Belo Horizonte - MG</p>,\n",
       " <p class=\"txt-value\">R$ 239.000</p>,\n",
       " <p class=\"txt-name inline\">TVR</p>,\n",
       " <p class=\"txt-category badge badge-secondary inline\">USADO</p>,\n",
       " <p class=\"txt-motor\">Motor 4.0 Turbo</p>,\n",
       " <p class=\"txt-description\">Ano 2014 - 17.778 km</p>,\n",
       " <p class=\"txt-location\">Belo Horizonte - MG</p>,\n",
       " <p class=\"txt-value\">R$ 115.000</p>,\n",
       " <p class=\"txt-name inline\">EXCALIBUR</p>,\n",
       " <p class=\"txt-category badge badge-secondary inline\">USADO</p>,\n",
       " <p class=\"txt-motor\">Motor 3.0 32v</p>,\n",
       " <p class=\"txt-description\">Ano 2009 - 81.251 km</p>,\n",
       " <p class=\"txt-location\">Rio de Janeiro - RJ</p>,\n",
       " <p class=\"txt-value\">R$ 114.000</p>,\n",
       " <p class=\"txt-name inline\">MCLAREN</p>,\n",
       " <p class=\"txt-category badge badge-secondary inline\">NOVO</p>,\n",
       " <p class=\"txt-motor\">Motor Diesel</p>,\n",
       " <p class=\"txt-description\">Ano 2019 - 0 km</p>,\n",
       " <p class=\"txt-location\">São Paulo - SP</p>,\n",
       " <p class=\"txt-value\">R$ 75.000</p>,\n",
       " <p class=\"txt-name inline\">TOYOTA</p>,\n",
       " <p class=\"txt-category badge badge-secondary inline\">USADO</p>,\n",
       " <p class=\"txt-opportunity badge badge-danger inline\">OPORTUNIDADE</p>,\n",
       " <p class=\"txt-motor\">Motor 4.0 Turbo</p>,\n",
       " <p class=\"txt-description\">Ano 1999 - 12.536 km</p>,\n",
       " <p class=\"txt-location\">São Paulo - SP</p>,\n",
       " <p class=\"txt-value\">R$ 117.000</p>,\n",
       " <p style=\"color: #fff; text-align: center; margin-top: 40px;\">Aplicação para treinamento de web scraping</p>]"
      ]
     },
     "execution_count": 127,
     "metadata": {},
     "output_type": "execute_result"
    }
   ],
   "source": [
    "soup('p')"
   ]
  },
  {
   "cell_type": "markdown",
   "metadata": {},
   "source": [
    "## Utilizando o argumento attributes"
   ]
  },
  {
   "cell_type": "code",
   "execution_count": 128,
   "metadata": {},
   "outputs": [
    {
     "data": {
      "text/plain": [
       "[<p class=\"txt-value\">R$ 338.000</p>,\n",
       " <p class=\"txt-value\">R$ 346.000</p>,\n",
       " <p class=\"txt-value\">R$ 480.000</p>,\n",
       " <p class=\"txt-value\">R$ 133.000</p>,\n",
       " <p class=\"txt-value\">R$ 175.000</p>,\n",
       " <p class=\"txt-value\">R$ 239.000</p>,\n",
       " <p class=\"txt-value\">R$ 115.000</p>,\n",
       " <p class=\"txt-value\">R$ 114.000</p>,\n",
       " <p class=\"txt-value\">R$ 75.000</p>,\n",
       " <p class=\"txt-value\">R$ 117.000</p>]"
      ]
     },
     "execution_count": 128,
     "metadata": {},
     "output_type": "execute_result"
    }
   ],
   "source": [
    "soup('p',{'class': 'txt-value'})"
   ]
  },
  {
   "cell_type": "markdown",
   "metadata": {},
   "source": [
    "## Buscando por tag"
   ]
  },
  {
   "cell_type": "code",
   "execution_count": 129,
   "metadata": {},
   "outputs": [
    {
     "data": {
      "text/plain": [
       "[<p class=\"txt-location\">Belo Horizonte - MG</p>,\n",
       " <p class=\"txt-location\">Belo Horizonte - MG</p>,\n",
       " <p class=\"txt-location\">Belo Horizonte - MG</p>,\n",
       " <p class=\"txt-location\">Belo Horizonte - MG</p>,\n",
       " <p class=\"txt-location\">Belo Horizonte - MG</p>]"
      ]
     },
     "execution_count": 129,
     "metadata": {},
     "output_type": "execute_result"
    }
   ],
   "source": [
    "#encontrar \n",
    "soup('p',text = 'Belo Horizonte - MG')"
   ]
  },
  {
   "cell_type": "markdown",
   "metadata": {},
   "source": [
    "## Utilizando diretamente os atributos"
   ]
  },
  {
   "cell_type": "code",
   "execution_count": 130,
   "metadata": {},
   "outputs": [
    {
     "data": {
      "text/plain": [
       "[<img alt=\"Foto\" height=\"155\" src=\"https://caelum-online-public.s3.amazonaws.com/1381-scraping/01/img-cars/lamborghini-aventador/lamborghini-aventador-2932196__340.jpg\" width=\"220\"/>,\n",
       " <img alt=\"Foto\" height=\"155\" src=\"https://caelum-online-public.s3.amazonaws.com/1381-scraping/01/img-cars/bmw-m2/bmw-m2-2970882__340.jpg\" width=\"220\"/>,\n",
       " <img alt=\"Foto\" height=\"155\" src=\"https://caelum-online-public.s3.amazonaws.com/1381-scraping/01/img-cars/alfa/alfa-1823056__340.jpg\" width=\"220\"/>,\n",
       " <img alt=\"Foto\" height=\"155\" src=\"https://caelum-online-public.s3.amazonaws.com/1381-scraping/01/img-cars/puech/puech-4055386__340.jpg\" width=\"220\"/>,\n",
       " <img alt=\"Foto\" height=\"155\" src=\"https://caelum-online-public.s3.amazonaws.com/1381-scraping/01/img-cars/lamborghini-murcielago/lamborghini-murcielago-2872974__340.jpg\" width=\"220\"/>,\n",
       " <img alt=\"Foto\" height=\"155\" src=\"https://caelum-online-public.s3.amazonaws.com/1381-scraping/01/img-cars/aston-martin/aston-martin-2977916__340.jpg\" width=\"220\"/>,\n",
       " <img alt=\"Foto\" height=\"155\" src=\"https://caelum-online-public.s3.amazonaws.com/1381-scraping/01/img-cars/tvr/tvr-2943925__340.jpg\" width=\"220\"/>,\n",
       " <img alt=\"Foto\" height=\"155\" src=\"https://caelum-online-public.s3.amazonaws.com/1381-scraping/01/img-cars/excalibur/excalibur-2916730__340.jpg\" width=\"220\"/>,\n",
       " <img alt=\"Foto\" height=\"155\" src=\"https://caelum-online-public.s3.amazonaws.com/1381-scraping/01/img-cars/mclaren/mclaren-2855240__340.jpg\" width=\"220\"/>,\n",
       " <img alt=\"Foto\" height=\"155\" src=\"https://caelum-online-public.s3.amazonaws.com/1381-scraping/01/img-cars/toyota/toyota-3245397__340.jpg\" width=\"220\"/>]"
      ]
     },
     "execution_count": 130,
     "metadata": {},
     "output_type": "execute_result"
    }
   ],
   "source": [
    "soup('img',alt = 'Foto')"
   ]
  },
  {
   "cell_type": "code",
   "execution_count": 131,
   "metadata": {},
   "outputs": [
    {
     "name": "stdout",
     "output_type": "stream",
     "text": [
      "https://caelum-online-public.s3.amazonaws.com/1381-scraping/01/img-cars/lamborghini-aventador/lamborghini-aventador-2932196__340.jpg\n",
      "https://caelum-online-public.s3.amazonaws.com/1381-scraping/01/img-cars/bmw-m2/bmw-m2-2970882__340.jpg\n",
      "https://caelum-online-public.s3.amazonaws.com/1381-scraping/01/img-cars/alfa/alfa-1823056__340.jpg\n",
      "https://caelum-online-public.s3.amazonaws.com/1381-scraping/01/img-cars/puech/puech-4055386__340.jpg\n",
      "https://caelum-online-public.s3.amazonaws.com/1381-scraping/01/img-cars/lamborghini-murcielago/lamborghini-murcielago-2872974__340.jpg\n",
      "https://caelum-online-public.s3.amazonaws.com/1381-scraping/01/img-cars/aston-martin/aston-martin-2977916__340.jpg\n",
      "https://caelum-online-public.s3.amazonaws.com/1381-scraping/01/img-cars/tvr/tvr-2943925__340.jpg\n",
      "https://caelum-online-public.s3.amazonaws.com/1381-scraping/01/img-cars/excalibur/excalibur-2916730__340.jpg\n",
      "https://caelum-online-public.s3.amazonaws.com/1381-scraping/01/img-cars/mclaren/mclaren-2855240__340.jpg\n",
      "https://caelum-online-public.s3.amazonaws.com/1381-scraping/01/img-cars/toyota/toyota-3245397__340.jpg\n"
     ]
    }
   ],
   "source": [
    "for i in soup('img',alt = 'Foto'):\n",
    "    print(i.get('src'))"
   ]
  },
  {
   "cell_type": "markdown",
   "metadata": {},
   "source": [
    "## Lembando que class é uma palavra reservada do Python,vc pode memso assim usá-la com um undersocre após "
   ]
  },
  {
   "cell_type": "code",
   "execution_count": 132,
   "metadata": {},
   "outputs": [
    {
     "data": {
      "text/plain": [
       "[<p class=\"txt-value\">R$ 338.000</p>,\n",
       " <p class=\"txt-value\">R$ 346.000</p>,\n",
       " <p class=\"txt-value\">R$ 480.000</p>,\n",
       " <p class=\"txt-value\">R$ 133.000</p>,\n",
       " <p class=\"txt-value\">R$ 175.000</p>,\n",
       " <p class=\"txt-value\">R$ 239.000</p>,\n",
       " <p class=\"txt-value\">R$ 115.000</p>,\n",
       " <p class=\"txt-value\">R$ 114.000</p>,\n",
       " <p class=\"txt-value\">R$ 75.000</p>,\n",
       " <p class=\"txt-value\">R$ 117.000</p>]"
      ]
     },
     "execution_count": 132,
     "metadata": {},
     "output_type": "execute_result"
    }
   ],
   "source": [
    "soup('p',class_='txt-value')"
   ]
  },
  {
   "cell_type": "markdown",
   "metadata": {},
   "source": [
    "## Lista com todos os textos das tags "
   ]
  },
  {
   "cell_type": "code",
   "execution_count": 133,
   "metadata": {},
   "outputs": [
    {
     "data": {
      "text/plain": [
       "['html',\n",
       " 'Alura Motors',\n",
       " \" /*Regra para a animacao*/ @keyframes spin { 0% { transform: rotate(0deg); } 100% { transform: rotate(360deg); } } /*Mudando o tamanho do icone de resposta*/ div.glyphicon { color:#6B8E23; font-size: 38px; } /*Classe que mostra a animacao 'spin'*/ .loader { border: 16px solid #f3f3f3; border-radius: 50%; border-top: 16px solid #3498db; width: 80px; height: 80px; -webkit-animation: spin 2s linear infinite; animation: spin 2s linear infinite; } \",\n",
       " ' requisitar(\"https://alura-scraping.herokuapp.com/produtos?_page=\"+1+\"&_limit=10\") ',\n",
       " 'You need to enable JavaScript to run this app.',\n",
       " 'Aguarde... ',\n",
       " 'Motors ',\n",
       " 'Hello World',\n",
       " 'Anúncios',\n",
       " 'Veículos de Luxo Novos e Usados - Todas as Marcas',\n",
       " '246 veículos encontrados',\n",
       " 'Página 1 de 25',\n",
       " 'LAMBORGHINI AVENTADOR',\n",
       " 'USADO',\n",
       " 'Motor 1.8 16v',\n",
       " 'Ano 1993 - 55.286 km',\n",
       " '► 4 X 4',\n",
       " '► Câmera de estacionamento',\n",
       " '► Controle de tração',\n",
       " '► Sensor de estacionamento',\n",
       " '...',\n",
       " 'Belo Horizonte - MG',\n",
       " 'R$ 338.000',\n",
       " 'BMW M2',\n",
       " 'USADO',\n",
       " 'Motor 3.0 32v',\n",
       " 'Ano 2018 - 83.447 km',\n",
       " '► Câmera de estacionamento',\n",
       " '► Controle de estabilidade',\n",
       " '► Travas elétricas',\n",
       " '► Freios ABS',\n",
       " '...',\n",
       " 'Belo Horizonte - MG',\n",
       " 'R$ 346.000',\n",
       " 'ALFA',\n",
       " 'USADO',\n",
       " 'Motor 1.8 16v',\n",
       " 'Ano 2004 - 19.722 km',\n",
       " '► Central multimídia',\n",
       " '► Bancos de couro',\n",
       " '► Rodas de liga',\n",
       " '► Câmera de estacionamento',\n",
       " '...',\n",
       " 'Rio de Janeiro - RJ',\n",
       " 'R$ 480.000',\n",
       " 'PUECH',\n",
       " 'USADO',\n",
       " 'Motor Diesel V8',\n",
       " 'Ano 1992 - 34.335 km',\n",
       " '► Bancos de couro',\n",
       " '► Freios ABS',\n",
       " '► Rodas de liga',\n",
       " '► Câmbio automático',\n",
       " '...',\n",
       " 'São Paulo - SP',\n",
       " 'R$ 133.000',\n",
       " 'LAMBORGHINI MURCIELAGO',\n",
       " 'USADO',\n",
       " 'Motor 1.0 8v',\n",
       " 'Ano 1991 - 464 km',\n",
       " '► Central multimídia',\n",
       " '► Teto panorâmico',\n",
       " '► Sensor crepuscular',\n",
       " '► Piloto automático',\n",
       " '...',\n",
       " 'Belo Horizonte - MG',\n",
       " 'R$ 175.000',\n",
       " 'ASTON MARTIN',\n",
       " 'USADO',\n",
       " 'OPORTUNIDADE',\n",
       " 'Motor Diesel V6',\n",
       " 'Ano 2004 - 50.189 km',\n",
       " '► Painel digital',\n",
       " '► Controle de tração',\n",
       " '► Teto panorâmico',\n",
       " '► Central multimídia',\n",
       " '...',\n",
       " 'Belo Horizonte - MG',\n",
       " 'R$ 239.000',\n",
       " 'TVR',\n",
       " 'USADO',\n",
       " 'Motor 4.0 Turbo',\n",
       " 'Ano 2014 - 17.778 km',\n",
       " '► 4 X 4',\n",
       " '► Teto panorâmico',\n",
       " '► Central multimídia',\n",
       " '► Controle de estabilidade',\n",
       " '...',\n",
       " 'Belo Horizonte - MG',\n",
       " 'R$ 115.000',\n",
       " 'EXCALIBUR',\n",
       " 'USADO',\n",
       " 'Motor 3.0 32v',\n",
       " 'Ano 2009 - 81.251 km',\n",
       " '► Painel digital',\n",
       " '► Câmbio automático',\n",
       " '► Sensor de chuva',\n",
       " '► Travas elétricas',\n",
       " '...',\n",
       " 'Rio de Janeiro - RJ',\n",
       " 'R$ 114.000',\n",
       " 'MCLAREN',\n",
       " 'NOVO',\n",
       " 'Motor Diesel',\n",
       " 'Ano 2019 - 0 km',\n",
       " '► Central multimídia',\n",
       " '► Câmera de estacionamento',\n",
       " '► Câmbio automático',\n",
       " '► Ar condicionado',\n",
       " '...',\n",
       " 'São Paulo - SP',\n",
       " 'R$ 75.000',\n",
       " 'TOYOTA',\n",
       " 'USADO',\n",
       " 'OPORTUNIDADE',\n",
       " 'Motor 4.0 Turbo',\n",
       " 'Ano 1999 - 12.536 km',\n",
       " '► Bancos de couro',\n",
       " '► Freios ABS',\n",
       " '► Piloto automático',\n",
       " '► Controle de estabilidade',\n",
       " '...',\n",
       " 'São Paulo - SP',\n",
       " 'R$ 117.000',\n",
       " '246 veículos encontrados',\n",
       " 'Página 1 de 25',\n",
       " 'Motors ',\n",
       " 'Aplicação para treinamento de web scraping']"
      ]
     },
     "execution_count": 133,
     "metadata": {},
     "output_type": "execute_result"
    }
   ],
   "source": [
    "soup(text= True)"
   ]
  },
  {
   "cell_type": "code",
   "execution_count": null,
   "metadata": {},
   "outputs": [],
   "source": []
  },
  {
   "cell_type": "markdown",
   "metadata": {},
   "source": [
    "<html>\n",
    "    <body>\n",
    "        <div id=\"container-a\">\n",
    "            <h1>Título A</h1>\n",
    "            <h2>Subtítulo A</h2>\n",
    "            <p>Texto de conteúdo A</p>\n",
    "        </div>\n",
    "    </body>\n",
    "</html>"
   ]
  },
  {
   "cell_type": "code",
   "execution_count": 147,
   "metadata": {},
   "outputs": [],
   "source": [
    "html_teste = \"\"\"\n",
    "    <html>\n",
    "        <body>\n",
    "            <div id=\"container-a\">\n",
    "                <h1>Título A</h1>\n",
    "                <h2 class=\"ref-a\">Sub título A</h2>\n",
    "                <p>Texto de conteúdo A</p>\n",
    "            </div>\n",
    "            <div id=\"container-b\">\n",
    "                <h1>Título B</h1>\n",
    "                <h2 class=\"ref-b\">Sub título B</h2>\n",
    "                <p>Texto de conteúdo B</p>\n",
    "            </div>\n",
    "        </body>\n",
    "    </html>\n",
    "\"\"\""
   ]
  },
  {
   "cell_type": "code",
   "execution_count": 148,
   "metadata": {},
   "outputs": [
    {
     "data": {
      "text/plain": [
       "'<html><body><div id=\"container-a\"><h1>Título A</h1><h2 class=\"ref-a\">Sub título A</h2><p>Texto de conteúdo A</p></div><div id=\"container-b\"><h1>Título B</h1><h2 class=\"ref-b\">Sub título B</h2><p>Texto de conteúdo B</p></div></body></html>'"
      ]
     },
     "execution_count": 148,
     "metadata": {},
     "output_type": "execute_result"
    }
   ],
   "source": [
    "html_teste = trata_html(html_teste)\n",
    "html_teste"
   ]
  },
  {
   "cell_type": "code",
   "execution_count": 150,
   "metadata": {},
   "outputs": [],
   "source": [
    "soup = BeautifulSoup(html_teste, parser = 'html.parser')"
   ]
  },
  {
   "cell_type": "code",
   "execution_count": 152,
   "metadata": {},
   "outputs": [
    {
     "data": {
      "text/plain": [
       "<h2 class=\"ref-a\">Sub título A</h2>"
      ]
     },
     "execution_count": 152,
     "metadata": {},
     "output_type": "execute_result"
    }
   ],
   "source": [
    "soup.find('h2')"
   ]
  },
  {
   "cell_type": "code",
   "execution_count": 156,
   "metadata": {},
   "outputs": [
    {
     "data": {
      "text/plain": [
       "<div id=\"container-a\"><h1>Título A</h1><h2 class=\"ref-a\">Sub título A</h2><p>Texto de conteúdo A</p></div>"
      ]
     },
     "execution_count": 156,
     "metadata": {},
     "output_type": "execute_result"
    }
   ],
   "source": [
    "soup.find('h2').find_parent('div')"
   ]
  },
  {
   "cell_type": "code",
   "execution_count": 157,
   "metadata": {},
   "outputs": [
    {
     "data": {
      "text/plain": [
       "[<div id=\"container-a\"><h1>Título A</h1><h2 class=\"ref-a\">Sub título A</h2><p>Texto de conteúdo A</p></div>,\n",
       " <body><div id=\"container-a\"><h1>Título A</h1><h2 class=\"ref-a\">Sub título A</h2><p>Texto de conteúdo A</p></div><div id=\"container-b\"><h1>Título B</h1><h2 class=\"ref-b\">Sub título B</h2><p>Texto de conteúdo B</p></div></body>,\n",
       " <html><body><div id=\"container-a\"><h1>Título A</h1><h2 class=\"ref-a\">Sub título A</h2><p>Texto de conteúdo A</p></div><div id=\"container-b\"><h1>Título B</h1><h2 class=\"ref-b\">Sub título B</h2><p>Texto de conteúdo B</p></div></body></html>,\n",
       " <html><body><div id=\"container-a\"><h1>Título A</h1><h2 class=\"ref-a\">Sub título A</h2><p>Texto de conteúdo A</p></div><div id=\"container-b\"><h1>Título B</h1><h2 class=\"ref-b\">Sub título B</h2><p>Texto de conteúdo B</p></div></body></html>]"
      ]
     },
     "execution_count": 157,
     "metadata": {},
     "output_type": "execute_result"
    }
   ],
   "source": [
    "soup.find('h2').find_parents()"
   ]
  },
  {
   "cell_type": "code",
   "execution_count": 162,
   "metadata": {},
   "outputs": [
    {
     "name": "stdout",
     "output_type": "stream",
     "text": [
      "[<div id=\"container-a\"><h1>Título A</h1><h2 class=\"ref-a\">Sub título A</h2><p>Texto de conteúdo A</p></div>]\n",
      "[<div id=\"container-b\"><h1>Título B</h1><h2 class=\"ref-b\">Sub título B</h2><p>Texto de conteúdo B</p></div>]\n"
     ]
    }
   ],
   "source": [
    "for i in soup('h2'):\n",
    "    print(i.find_parents('div'))"
   ]
  },
  {
   "cell_type": "markdown",
   "metadata": {},
   "source": [
    "# Webscraping do site"
   ]
  },
  {
   "cell_type": "code",
   "execution_count": 165,
   "metadata": {},
   "outputs": [
    {
     "data": {
      "text/plain": [
       "<!DOCTYPE html>\n",
       "\n",
       "<html lang=\"pt-br\">\n",
       "<head>\n",
       "<meta charset=\"utf-8\"/>\n",
       "<meta content=\"width=device-width, initial-scale=1, shrink-to-fit=no\" name=\"viewport\"/>\n",
       "<title>Alura Motors</title>\n",
       "<style>\n",
       "\t\t/*Regra para a animacao*/\n",
       "\t\t@keyframes spin {\n",
       "\t\t\t0% { transform: rotate(0deg); }\n",
       "\t\t\t100% { transform: rotate(360deg); }\n",
       "\t\t}\n",
       "\t\t/*Mudando o tamanho do icone de resposta*/\n",
       "\t\tdiv.glyphicon {\n",
       "\t\t\tcolor:#6B8E23;\n",
       "\t\t\tfont-size: 38px;\n",
       "\t\t}\n",
       "\t\t/*Classe que mostra a animacao 'spin'*/\n",
       "\t\t.loader {\n",
       "\t\t\tborder: 16px solid #f3f3f3;\n",
       "\t\t\tborder-radius: 50%;\n",
       "\t\t\tborder-top: 16px solid #3498db;\n",
       "\t\t\twidth: 80px;\n",
       "\t\t\theight: 80px;\n",
       "\t\t\t-webkit-animation: spin 2s linear infinite;\n",
       "\t\t\tanimation: spin 2s linear infinite;\n",
       "\t\t}\n",
       "\t</style>\n",
       "<link crossorigin=\"anonymous\" href=\"https://maxcdn.bootstrapcdn.com/bootstrap/3.3.7/css/bootstrap.min.css\" integrity=\"sha384-BVYiiSIFeK1dGmJRAkycuHAHRg32OmUcww7on3RYdg4Va+PmSTsz/K68vbdEjh4u\" rel=\"stylesheet\"/>\n",
       "<link href=\"css/styles.css\" media=\"all\" rel=\"stylesheet\"/>\n",
       "<script src=\"https://code.jquery.com/jquery-1.12.4.js\"></script>\n",
       "<script crossorigin=\"anonymous\" integrity=\"sha384-Tc5IQib027qvyjSMfHjOMaLkfuWVxZxUPnCJA7l2mCWNIpG9mGCD8wGNIcPD7Txa\" src=\"https://maxcdn.bootstrapcdn.com/bootstrap/3.3.7/js/bootstrap.min.js\"></script>\n",
       "<script src=\"js/index.js\" type=\"text/javascript\"></script>\n",
       "<script>\n",
       "\t\trequisitar(\"https://alura-scraping.herokuapp.com/produtos?_page=\"+1+\"&_limit=10\")\n",
       "\t</script>\n",
       "</head>\n",
       "<body cz-shortcut-listen=\"true\">\n",
       "<noscript>You need to enable JavaScript to run this app.</noscript>\n",
       "<div aria-labelledby=\"loadingModal_label\" class=\"modal fade\" data-backdrop=\"static\" id=\"loadingModal\" role=\"dialog\" tabindex=\"-1\">\n",
       "<div class=\"modal-dialog\" role=\"document\">\n",
       "<div class=\"modal-content\">\n",
       "<div class=\"modal-header\">\n",
       "<h5 class=\"modal-title\" id=\"loadingModal_label\">\n",
       "<span class=\"glyphicon glyphicon-refresh\"></span>Aguarde...\n",
       "\t\t\t\t\t</h5>\n",
       "</div>\n",
       "<div class=\"modal-body\">\n",
       "<div class=\"alert\" role=\"alert\">\n",
       "<center>\n",
       "<div class=\"loader\" id=\"loader\"></div><br/>\n",
       "<h4><b id=\"loadingModal_content\"></b></h4>\n",
       "</center>\n",
       "</div>\n",
       "</div>\n",
       "</div>\n",
       "</div>\n",
       "</div>\n",
       "<div id=\"root\">\n",
       "<header>\n",
       "<nav class=\"navbar navbar-inverse\" style=\"margin-bottom: 0;\">\n",
       "<div class=\"container\" style=\"margin-bottom: -20px;\">\n",
       "<div class=\"navbar\">\n",
       "<a class=\"navbar-brand\" href=\"./index.php\" title=\"Alura Motors\">\n",
       "<img alt=\"Alura\" class=\"d-inline-block align-top\" src=\"img/alura-logo.svg\"/>Motors\n",
       "\t\t\t\t\t\t</a>\n",
       "<ul class=\"nav navbar-nav\" style=\"margin-top: 35px;\">\n",
       "<li><a href=\"./hello-world.php\">Hello World</a></li>\n",
       "<li><a href=\"./index.php\">Anúncios</a></li>\n",
       "</ul>\n",
       "</div>\n",
       "</div>\n",
       "</nav>\n",
       "</header>\n",
       "<div class=\"container\">\n",
       "<h1 class=\"sub-header\">Veículos de Luxo Novos e Usados - Todas as Marcas</h1>\n",
       "<div class=\"row\">\n",
       "<div class=\"col-md-12\">\n",
       "<div class=\"container\" style=\"width: 100%\">\n",
       "<div class=\"type-select\">246 veículos encontrados</div>\n",
       "<div class=\"container-pagination\" style=\"float: right\">\n",
       "<span class=\"info-pages\">Página 1 de 25</span>\n",
       "</div>\n",
       "</div>\n",
       "<div id=\"container-cards\" style=\"height: 100%\">\n",
       "<div class=\"well card\">\n",
       "<div class=\"col-md-3 image-card\">\n",
       "<img alt=\"Foto\" height=\"155\" src=\"https://caelum-online-public.s3.amazonaws.com/1381-scraping/01/img-cars/lamborghini-aventador/lamborghini-aventador-2932196__340.jpg\" width=\"220\"/>\n",
       "</div>\n",
       "<div class=\"col-md-6 body-card\">\n",
       "<p class=\"txt-name inline\">LAMBORGHINI AVENTADOR</p>\n",
       "<p class=\"txt-category badge badge-secondary inline\">USADO</p>\n",
       "<p class=\"txt-motor\">Motor 1.8 16v</p>\n",
       "<p class=\"txt-description\">Ano 1993 - 55.286 km</p>\n",
       "<ul class=\"lst-items\">\n",
       "<li class=\"txt-items\">► 4 X 4</li>\n",
       "<li class=\"txt-items\">► Câmera de estacionamento</li>\n",
       "<li class=\"txt-items\">► Controle de tração</li>\n",
       "<li class=\"txt-items\">► Sensor de estacionamento</li>\n",
       "<li class=\"txt-items\">...</li>\n",
       "</ul>\n",
       "<p class=\"txt-location\">Belo Horizonte - MG</p>\n",
       "</div>\n",
       "<div class=\"col-md-3 value-card\">\n",
       "<div class=\"value\">\n",
       "<p class=\"txt-value\">R$ 338.000</p>\n",
       "</div>\n",
       "</div>\n",
       "</div>\n",
       "<div class=\"well card\">\n",
       "<div class=\"col-md-3 image-card\">\n",
       "<img alt=\"Foto\" height=\"155\" src=\"https://caelum-online-public.s3.amazonaws.com/1381-scraping/01/img-cars/bmw-m2/bmw-m2-2970882__340.jpg\" width=\"220\"/>\n",
       "</div>\n",
       "<div class=\"col-md-6 body-card\">\n",
       "<p class=\"txt-name inline\">BMW M2</p>\n",
       "<p class=\"txt-category badge badge-secondary inline\">USADO</p>\n",
       "<p class=\"txt-motor\">Motor 3.0 32v</p>\n",
       "<p class=\"txt-description\">Ano 2018 - 83.447 km</p>\n",
       "<ul class=\"lst-items\">\n",
       "<li class=\"txt-items\">► Câmera de estacionamento</li>\n",
       "<li class=\"txt-items\">► Controle de estabilidade</li>\n",
       "<li class=\"txt-items\">► Travas elétricas</li>\n",
       "<li class=\"txt-items\">► Freios ABS</li>\n",
       "<li class=\"txt-items\">...</li>\n",
       "</ul>\n",
       "<p class=\"txt-location\">Belo Horizonte - MG</p>\n",
       "</div>\n",
       "<div class=\"col-md-3 value-card\">\n",
       "<div class=\"value\">\n",
       "<p class=\"txt-value\">R$ 346.000</p>\n",
       "</div>\n",
       "</div>\n",
       "</div>\n",
       "<div class=\"well card\">\n",
       "<div class=\"col-md-3 image-card\">\n",
       "<img alt=\"Foto\" height=\"155\" src=\"https://caelum-online-public.s3.amazonaws.com/1381-scraping/01/img-cars/alfa/alfa-1823056__340.jpg\" width=\"220\"/>\n",
       "</div>\n",
       "<div class=\"col-md-6 body-card\">\n",
       "<p class=\"txt-name inline\">ALFA</p>\n",
       "<p class=\"txt-category badge badge-secondary inline\">USADO</p>\n",
       "<p class=\"txt-motor\">Motor 1.8 16v</p>\n",
       "<p class=\"txt-description\">Ano 2004 - 19.722 km</p>\n",
       "<ul class=\"lst-items\">\n",
       "<li class=\"txt-items\">► Central multimídia</li>\n",
       "<li class=\"txt-items\">► Bancos de couro</li>\n",
       "<li class=\"txt-items\">► Rodas de liga</li>\n",
       "<li class=\"txt-items\">► Câmera de estacionamento</li>\n",
       "<li class=\"txt-items\">...</li>\n",
       "</ul>\n",
       "<p class=\"txt-location\">Rio de Janeiro - RJ</p>\n",
       "</div>\n",
       "<div class=\"col-md-3 value-card\">\n",
       "<div class=\"value\">\n",
       "<p class=\"txt-value\">R$ 480.000</p>\n",
       "</div>\n",
       "</div>\n",
       "</div>\n",
       "<div class=\"well card\">\n",
       "<div class=\"col-md-3 image-card\">\n",
       "<img alt=\"Foto\" height=\"155\" src=\"https://caelum-online-public.s3.amazonaws.com/1381-scraping/01/img-cars/puech/puech-4055386__340.jpg\" width=\"220\"/>\n",
       "</div>\n",
       "<div class=\"col-md-6 body-card\">\n",
       "<p class=\"txt-name inline\">PUECH</p>\n",
       "<p class=\"txt-category badge badge-secondary inline\">USADO</p>\n",
       "<p class=\"txt-motor\">Motor Diesel V8</p>\n",
       "<p class=\"txt-description\">Ano 1992 - 34.335 km</p>\n",
       "<ul class=\"lst-items\">\n",
       "<li class=\"txt-items\">► Bancos de couro</li>\n",
       "<li class=\"txt-items\">► Freios ABS</li>\n",
       "<li class=\"txt-items\">► Rodas de liga</li>\n",
       "<li class=\"txt-items\">► Câmbio automático</li>\n",
       "<li class=\"txt-items\">...</li>\n",
       "</ul>\n",
       "<p class=\"txt-location\">São Paulo - SP</p>\n",
       "</div>\n",
       "<div class=\"col-md-3 value-card\">\n",
       "<div class=\"value\">\n",
       "<p class=\"txt-value\">R$ 133.000</p>\n",
       "</div>\n",
       "</div>\n",
       "</div>\n",
       "<div class=\"well card\">\n",
       "<div class=\"col-md-3 image-card\">\n",
       "<img alt=\"Foto\" height=\"155\" src=\"https://caelum-online-public.s3.amazonaws.com/1381-scraping/01/img-cars/lamborghini-murcielago/lamborghini-murcielago-2872974__340.jpg\" width=\"220\"/>\n",
       "</div>\n",
       "<div class=\"col-md-6 body-card\">\n",
       "<p class=\"txt-name inline\">LAMBORGHINI MURCIELAGO</p>\n",
       "<p class=\"txt-category badge badge-secondary inline\">USADO</p>\n",
       "<p class=\"txt-motor\">Motor 1.0 8v</p>\n",
       "<p class=\"txt-description\">Ano 1991 - 464 km</p>\n",
       "<ul class=\"lst-items\">\n",
       "<li class=\"txt-items\">► Central multimídia</li>\n",
       "<li class=\"txt-items\">► Teto panorâmico</li>\n",
       "<li class=\"txt-items\">► Sensor crepuscular</li>\n",
       "<li class=\"txt-items\">► Piloto automático</li>\n",
       "<li class=\"txt-items\">...</li>\n",
       "</ul>\n",
       "<p class=\"txt-location\">Belo Horizonte - MG</p>\n",
       "</div>\n",
       "<div class=\"col-md-3 value-card\">\n",
       "<div class=\"value\">\n",
       "<p class=\"txt-value\">R$ 175.000</p>\n",
       "</div>\n",
       "</div>\n",
       "</div>\n",
       "<div class=\"well card\">\n",
       "<div class=\"col-md-3 image-card\">\n",
       "<img alt=\"Foto\" height=\"155\" src=\"https://caelum-online-public.s3.amazonaws.com/1381-scraping/01/img-cars/aston-martin/aston-martin-2977916__340.jpg\" width=\"220\"/>\n",
       "</div>\n",
       "<div class=\"col-md-6 body-card\">\n",
       "<p class=\"txt-name inline\">ASTON MARTIN</p>\n",
       "<p class=\"txt-category badge badge-secondary inline\">USADO</p>\n",
       "<p class=\"txt-opportunity badge badge-danger inline\">OPORTUNIDADE</p>\n",
       "<p class=\"txt-motor\">Motor Diesel V6</p>\n",
       "<p class=\"txt-description\">Ano 2004 - 50.189 km</p>\n",
       "<ul class=\"lst-items\">\n",
       "<li class=\"txt-items\">► Painel digital</li>\n",
       "<li class=\"txt-items\">► Controle de tração</li>\n",
       "<li class=\"txt-items\">► Teto panorâmico</li>\n",
       "<li class=\"txt-items\">► Central multimídia</li>\n",
       "<li class=\"txt-items\">...</li>\n",
       "</ul>\n",
       "<p class=\"txt-location\">Belo Horizonte - MG</p>\n",
       "</div>\n",
       "<div class=\"col-md-3 value-card\">\n",
       "<div class=\"value\">\n",
       "<p class=\"txt-value\">R$ 239.000</p>\n",
       "</div>\n",
       "</div>\n",
       "</div>\n",
       "<div class=\"well card\">\n",
       "<div class=\"col-md-3 image-card\">\n",
       "<img alt=\"Foto\" height=\"155\" src=\"https://caelum-online-public.s3.amazonaws.com/1381-scraping/01/img-cars/tvr/tvr-2943925__340.jpg\" width=\"220\"/>\n",
       "</div>\n",
       "<div class=\"col-md-6 body-card\">\n",
       "<p class=\"txt-name inline\">TVR</p>\n",
       "<p class=\"txt-category badge badge-secondary inline\">USADO</p>\n",
       "<p class=\"txt-motor\">Motor 4.0 Turbo</p>\n",
       "<p class=\"txt-description\">Ano 2014 - 17.778 km</p>\n",
       "<ul class=\"lst-items\">\n",
       "<li class=\"txt-items\">► 4 X 4</li>\n",
       "<li class=\"txt-items\">► Teto panorâmico</li>\n",
       "<li class=\"txt-items\">► Central multimídia</li>\n",
       "<li class=\"txt-items\">► Controle de estabilidade</li>\n",
       "<li class=\"txt-items\">...</li>\n",
       "</ul>\n",
       "<p class=\"txt-location\">Belo Horizonte - MG</p>\n",
       "</div>\n",
       "<div class=\"col-md-3 value-card\">\n",
       "<div class=\"value\">\n",
       "<p class=\"txt-value\">R$ 115.000</p>\n",
       "</div>\n",
       "</div>\n",
       "</div>\n",
       "<div class=\"well card\">\n",
       "<div class=\"col-md-3 image-card\">\n",
       "<img alt=\"Foto\" height=\"155\" src=\"https://caelum-online-public.s3.amazonaws.com/1381-scraping/01/img-cars/excalibur/excalibur-2916730__340.jpg\" width=\"220\"/>\n",
       "</div>\n",
       "<div class=\"col-md-6 body-card\">\n",
       "<p class=\"txt-name inline\">EXCALIBUR</p>\n",
       "<p class=\"txt-category badge badge-secondary inline\">USADO</p>\n",
       "<p class=\"txt-motor\">Motor 3.0 32v</p>\n",
       "<p class=\"txt-description\">Ano 2009 - 81.251 km</p>\n",
       "<ul class=\"lst-items\">\n",
       "<li class=\"txt-items\">► Painel digital</li>\n",
       "<li class=\"txt-items\">► Câmbio automático</li>\n",
       "<li class=\"txt-items\">► Sensor de chuva</li>\n",
       "<li class=\"txt-items\">► Travas elétricas</li>\n",
       "<li class=\"txt-items\">...</li>\n",
       "</ul>\n",
       "<p class=\"txt-location\">Rio de Janeiro - RJ</p>\n",
       "</div>\n",
       "<div class=\"col-md-3 value-card\">\n",
       "<div class=\"value\">\n",
       "<p class=\"txt-value\">R$ 114.000</p>\n",
       "</div>\n",
       "</div>\n",
       "</div>\n",
       "<div class=\"well card\">\n",
       "<div class=\"col-md-3 image-card\">\n",
       "<img alt=\"Foto\" height=\"155\" src=\"https://caelum-online-public.s3.amazonaws.com/1381-scraping/01/img-cars/mclaren/mclaren-2855240__340.jpg\" width=\"220\"/>\n",
       "</div>\n",
       "<div class=\"col-md-6 body-card\">\n",
       "<p class=\"txt-name inline\">MCLAREN</p>\n",
       "<p class=\"txt-category badge badge-secondary inline\">NOVO</p>\n",
       "<p class=\"txt-motor\">Motor Diesel</p>\n",
       "<p class=\"txt-description\">Ano 2019 - 0 km</p>\n",
       "<ul class=\"lst-items\">\n",
       "<li class=\"txt-items\">► Central multimídia</li>\n",
       "<li class=\"txt-items\">► Câmera de estacionamento</li>\n",
       "<li class=\"txt-items\">► Câmbio automático</li>\n",
       "<li class=\"txt-items\">► Ar condicionado</li>\n",
       "<li class=\"txt-items\">...</li>\n",
       "</ul>\n",
       "<p class=\"txt-location\">São Paulo - SP</p>\n",
       "</div>\n",
       "<div class=\"col-md-3 value-card\">\n",
       "<div class=\"value\">\n",
       "<p class=\"txt-value\">R$ 75.000</p>\n",
       "</div>\n",
       "</div>\n",
       "</div>\n",
       "<div class=\"well card\">\n",
       "<div class=\"col-md-3 image-card\">\n",
       "<img alt=\"Foto\" height=\"155\" src=\"https://caelum-online-public.s3.amazonaws.com/1381-scraping/01/img-cars/toyota/toyota-3245397__340.jpg\" width=\"220\"/>\n",
       "</div>\n",
       "<div class=\"col-md-6 body-card\">\n",
       "<p class=\"txt-name inline\">TOYOTA</p>\n",
       "<p class=\"txt-category badge badge-secondary inline\">USADO</p>\n",
       "<p class=\"txt-opportunity badge badge-danger inline\">OPORTUNIDADE</p>\n",
       "<p class=\"txt-motor\">Motor 4.0 Turbo</p>\n",
       "<p class=\"txt-description\">Ano 1999 - 12.536 km</p>\n",
       "<ul class=\"lst-items\">\n",
       "<li class=\"txt-items\">► Bancos de couro</li>\n",
       "<li class=\"txt-items\">► Freios ABS</li>\n",
       "<li class=\"txt-items\">► Piloto automático</li>\n",
       "<li class=\"txt-items\">► Controle de estabilidade</li>\n",
       "<li class=\"txt-items\">...</li>\n",
       "</ul>\n",
       "<p class=\"txt-location\">São Paulo - SP</p>\n",
       "</div>\n",
       "<div class=\"col-md-3 value-card\">\n",
       "<div class=\"value\">\n",
       "<p class=\"txt-value\">R$ 117.000</p>\n",
       "</div>\n",
       "</div>\n",
       "</div> </div>\n",
       "<div class=\"type-select\">246 veículos encontrados</div>\n",
       "<div class=\"container-pagination\" style=\"float: right\">\n",
       "<span class=\"info-pages\">Página 1 de 25</span>\n",
       "</div>\n",
       "</div>\n",
       "</div>\n",
       "</div>\n",
       "</div>\n",
       "</body></html>\n",
       "<footer>\n",
       "<nav class=\"navbar navbar-inverse\">\n",
       "<div class=\"container\" style=\"margin-bottom: 10px;\">\n",
       "<div class=\"navbar\">\n",
       "<a class=\"navbar-brand\" href=\"./index.php\" title=\"Alura Motors\">\n",
       "<img alt=\"Alura\" class=\"d-inline-block align-top\" src=\"img/alura-logo.svg\"/>Motors\n",
       "\t\t\t\t\t\t</a>\n",
       "<p style=\"color: #fff; text-align: center; margin-top: 40px;\">Aplicação para treinamento de web scraping</p>\n",
       "</div>\n",
       "</div>\n",
       "</nav>\n",
       "</footer>\n",
       "\n",
       "\n"
      ]
     },
     "execution_count": 165,
     "metadata": {},
     "output_type": "execute_result"
    }
   ],
   "source": [
    "response = urlopen('https://alura-site-scraping.herokuapp.com/index.php')\n",
    "html = response.read().decode('utf-8')\n",
    "soup = BeautifulSoup(html,'html.parser')\n",
    "soup"
   ]
  },
  {
   "cell_type": "code",
   "execution_count": 167,
   "metadata": {},
   "outputs": [],
   "source": [
    "cards =[]\n",
    "card = {}"
   ]
  },
  {
   "cell_type": "code",
   "execution_count": 171,
   "metadata": {},
   "outputs": [
    {
     "data": {
      "text/plain": [
       "<div class=\"well card\">\n",
       "<div class=\"col-md-3 image-card\">\n",
       "<img alt=\"Foto\" height=\"155\" src=\"https://caelum-online-public.s3.amazonaws.com/1381-scraping/01/img-cars/lamborghini-aventador/lamborghini-aventador-2932196__340.jpg\" width=\"220\"/>\n",
       "</div>\n",
       "<div class=\"col-md-6 body-card\">\n",
       "<p class=\"txt-name inline\">LAMBORGHINI AVENTADOR</p>\n",
       "<p class=\"txt-category badge badge-secondary inline\">USADO</p>\n",
       "<p class=\"txt-motor\">Motor 1.8 16v</p>\n",
       "<p class=\"txt-description\">Ano 1993 - 55.286 km</p>\n",
       "<ul class=\"lst-items\">\n",
       "<li class=\"txt-items\">► 4 X 4</li>\n",
       "<li class=\"txt-items\">► Câmera de estacionamento</li>\n",
       "<li class=\"txt-items\">► Controle de tração</li>\n",
       "<li class=\"txt-items\">► Sensor de estacionamento</li>\n",
       "<li class=\"txt-items\">...</li>\n",
       "</ul>\n",
       "<p class=\"txt-location\">Belo Horizonte - MG</p>\n",
       "</div>\n",
       "<div class=\"col-md-3 value-card\">\n",
       "<div class=\"value\">\n",
       "<p class=\"txt-value\">R$ 338.000</p>\n",
       "</div>\n",
       "</div>\n",
       "</div>"
      ]
     },
     "execution_count": 171,
     "metadata": {},
     "output_type": "execute_result"
    }
   ],
   "source": [
    "anuncio = soup.find('div',{'class': 'well card'})\n",
    "anuncio"
   ]
  },
  {
   "cell_type": "markdown",
   "metadata": {},
   "source": [
    "# Obtendo valor dos anúncios"
   ]
  },
  {
   "cell_type": "code",
   "execution_count": 181,
   "metadata": {},
   "outputs": [
    {
     "data": {
      "text/plain": [
       "{'value': 'R$ 338.000'}"
      ]
     },
     "execution_count": 181,
     "metadata": {},
     "output_type": "execute_result"
    }
   ],
   "source": [
    "card['value'] = soup.find('p',{'class': 'txt-value'}).get_text()\n",
    "card"
   ]
  },
  {
   "cell_type": "markdown",
   "metadata": {},
   "source": [
    "## Infos sobre o veículo"
   ]
  },
  {
   "cell_type": "code",
   "execution_count": 187,
   "metadata": {},
   "outputs": [],
   "source": [
    "infos = anuncio.find('div',{'class': 'body-card'})('p')"
   ]
  },
  {
   "cell_type": "code",
   "execution_count": 195,
   "metadata": {},
   "outputs": [
    {
     "name": "stdout",
     "output_type": "stream",
     "text": [
      "['txt-name', 'inline'] -- LAMBORGHINI AVENTADOR\n",
      "['txt-category', 'badge', 'badge-secondary', 'inline'] -- USADO\n",
      "['txt-motor'] -- Motor 1.8 16v\n",
      "['txt-description'] -- Ano 1993 - 55.286 km\n",
      "['txt-location'] -- Belo Horizonte - MG\n"
     ]
    }
   ],
   "source": [
    "for i in infos:\n",
    "    print(i.get('class'), '--', i.get_text())"
   ]
  },
  {
   "cell_type": "code",
   "execution_count": 203,
   "metadata": {},
   "outputs": [
    {
     "name": "stdout",
     "output_type": "stream",
     "text": [
      "name -- LAMBORGHINI AVENTADOR\n",
      "category -- USADO\n",
      "motor -- Motor 1.8 16v\n",
      "description -- Ano 1993 - 55.286 km\n",
      "location -- Belo Horizonte - MG\n"
     ]
    }
   ],
   "source": [
    "for i in infos:\n",
    "    print(i.get('class')[0].split('-')[-1], '--', i.get_text())"
   ]
  },
  {
   "cell_type": "code",
   "execution_count": 207,
   "metadata": {},
   "outputs": [
    {
     "data": {
      "text/plain": [
       "{'value': 'R$ 338.000',\n",
       " 'name': 'LAMBORGHINI AVENTADOR',\n",
       " 'category': 'USADO',\n",
       " 'motor': 'Motor 1.8 16v',\n",
       " 'description': 'Ano 1993 - 55.286 km',\n",
       " 'location': 'Belo Horizonte - MG'}"
      ]
     },
     "execution_count": 207,
     "metadata": {},
     "output_type": "execute_result"
    }
   ],
   "source": [
    "for i in infos:\n",
    "    card[i.get('class')[0].split('-')[-1]] = i.get_text()\n",
    "card"
   ]
  },
  {
   "cell_type": "code",
   "execution_count": 211,
   "metadata": {},
   "outputs": [],
   "source": [
    "#RESUMO\n",
    "infos = anuncio.find('div',{'class': 'body-card'})('p')\n",
    "for i in infos:\n",
    "    card[i.get('class')[0].split('-')[-1]] = i.get_text()"
   ]
  },
  {
   "cell_type": "code",
   "execution_count": null,
   "metadata": {},
   "outputs": [],
   "source": []
  }
 ],
 "metadata": {
  "kernelspec": {
   "display_name": "Python 3",
   "language": "python",
   "name": "python3"
  },
  "language_info": {
   "codemirror_mode": {
    "name": "ipython",
    "version": 3
   },
   "file_extension": ".py",
   "mimetype": "text/x-python",
   "name": "python",
   "nbconvert_exporter": "python",
   "pygments_lexer": "ipython3",
   "version": "3.8.6"
  }
 },
 "nbformat": 4,
 "nbformat_minor": 4
}
